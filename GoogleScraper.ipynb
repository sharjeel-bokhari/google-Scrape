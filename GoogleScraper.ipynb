{
 "cells": [
  {
   "cell_type": "code",
   "execution_count": 33,
   "id": "855f6bcd",
   "metadata": {},
   "outputs": [
    {
     "name": "stdout",
     "output_type": "stream",
     "text": [
      "Phone Number:\t 111 155 555\n",
      "Company Name:\t Contact Us\n"
     ]
    }
   ],
   "source": [
    "from selenium import webdriver\n",
    "from selenium.webdriver import ChromeOptions\n",
    "from time import sleep\n",
    "\n",
    "phoneNum = \"111 155 555\"\n",
    "chrome_options = ChromeOptions()\n",
    "\n",
    "chrome_options.add_argument(\"--disable-notifications\")\n",
    "\n",
    "driver = webdriver.Chrome(options=chrome_options)\n",
    "\n",
    "driver.get(\"https://www.google.com\")\n",
    "driver.implicitly_wait(10)\n",
    "\n",
    "sleep(3)\n",
    "\n",
    "searchArea = driver.find_elements(By.TAG_NAME, \"textarea\")\n",
    "searchArea[0].send_keys(phoneNum)\n",
    "\n",
    "searchArea[0].send_keys(Keys.RETURN)\n",
    "driver.implicitly_wait(10)\n",
    "sleep(5)\n",
    "\n",
    "preciseLoc = driver.find_elements(By.CLASS_NAME, \"sjVJQd\")\n",
    "for j in preciseLoc:\n",
    "    if j.text.lower() == \"not now\":\n",
    "        j.click()\n",
    "        sleep(4)\n",
    "\n",
    "nameComp = driver.find_elements(By.CLASS_NAME, 'SPZz6b')\n",
    "\n",
    "if len(nameComp) == 0:\n",
    "    firstCompName = driver.find_elements(By.CLASS_NAME, \"CA5RN\")\n",
    "    if len(firstCompName) != 0:\n",
    "        print(\"Phone Number:\\t\", phoneNum)\n",
    "        print(\"Company Name:\\t\", firstCompName[0].find_elements(By.TAG_NAME, \"span\")[0].text)\n",
    "        driver.quit()\n",
    "    else:\n",
    "        print(\"Phone Number:\\t\", phoneNum)\n",
    "        print(\"Name Not Found!\")\n",
    "        driver.quit()\n",
    "else:\n",
    "    print(\"Phone Number:\\t\", phoneNum)\n",
    "    print(\"Company Name:\\t\", nameComp[0].text)\n",
    "\n",
    "driver.quit()\n"
   ]
  },
  {
   "cell_type": "code",
   "execution_count": 22,
   "id": "0a6bb227",
   "metadata": {},
   "outputs": [],
   "source": [
    "driver.quit()"
   ]
  },
  {
   "cell_type": "code",
   "execution_count": null,
   "id": "934482ad",
   "metadata": {},
   "outputs": [],
   "source": []
  }
 ],
 "metadata": {
  "kernelspec": {
   "display_name": "Python 3 (ipykernel)",
   "language": "python",
   "name": "python3"
  },
  "language_info": {
   "codemirror_mode": {
    "name": "ipython",
    "version": 3
   },
   "file_extension": ".py",
   "mimetype": "text/x-python",
   "name": "python",
   "nbconvert_exporter": "python",
   "pygments_lexer": "ipython3",
   "version": "3.9.20"
  }
 },
 "nbformat": 4,
 "nbformat_minor": 5
}
